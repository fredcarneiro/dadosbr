{
  "nbformat": 4,
  "nbformat_minor": 0,
  "metadata": {
    "colab": {
      "name": "Pandas Series.ipynb",
      "provenance": []
    },
    "kernelspec": {
      "name": "python3",
      "display_name": "Python 3"
    }
  },
  "cells": [
    {
      "cell_type": "markdown",
      "metadata": {
        "id": "hpJH7r3gVsBe"
      },
      "source": [
        "**Pandas** é uma das principais ferramentas para preparação, apresentação, limpeza e análise de dados. \n",
        "\n",
        "Ela foi desenvolvida por Wesley McKinney enquanto trabalhava na AQR Capital Management. \n",
        "\n",
        "A ferramenta foi desenvolvida já visando a análise e manipulação de dados da melhor maneira possível. \n",
        "\n",
        "O próprio nome pandas é derivado de *panel data*, um termo para descrever *datasets* multidimensionais, e um jogo com as letras da frase *Python data analysis*. \n",
        "\n",
        "Os requisitos entregues ao time de desenvolvimento foi:\n",
        "* Os dados deviam ser armazenados em uma estrutura com os eixos rotulados;\n",
        "* Análise e ferramentas para séries temporais\n",
        "* Facilidade no tratamento de dados faltosos\n",
        "* Combinação e agrupamento de dados (da mesma forma que bases de dados baseados em SQL) \n",
        "\n",
        "Mesmo tendo muitas coisas em comum com o **NumPy**, a principal diferença é que o **pandas** foi desenvolvido para trabalhar com dados tabulares ou dados de diferentes tipos. Enquanto o NumPy é melhor com dados numéricos homogêneos no formato de array.\n",
        "\n",
        "O pandas tem duas estruturas de dados princiapais: *Series* e *DataFrame*.\n",
        "\n",
        "Nossa conversa de hoje é sobre as *Series*, que eu vou chamar a partir daqui de série.\n",
        "\n",
        "Antes de começarmos, precisamos importar o pandas. \n",
        "\n",
        "Para escrever eu estou utilizando o **Google Colab** (https://colab.research.google.com/), que é um modo de você escrever texto e código e ver os seus resultados de forma rápida e fácil. Em outro texto podemos falar mais a fundo sobre ele.\n"
      ]
    },
    {
      "cell_type": "code",
      "metadata": {
        "id": "QcQN5abbU3QF"
      },
      "source": [
        "import pandas as pd"
      ],
      "execution_count": null,
      "outputs": []
    },
    {
      "cell_type": "markdown",
      "metadata": {
        "id": "21a25QUkwVBi"
      },
      "source": [
        "**Series** \n",
        "\n",
        "Uma série é um objeto parecido com um array de uma dimensão, contendo uma sequência de valores e um array contendo os rótulos, chamdo de *index*."
      ]
    },
    {
      "cell_type": "code",
      "metadata": {
        "colab": {
          "base_uri": "https://localhost:8080/"
        },
        "id": "-yeCcUIdVq8k",
        "outputId": "dd75778e-57ae-4b5e-dbd9-347d378e348d"
      },
      "source": [
        "serie = pd.Series([1,2,3,4,5])\n",
        "\n",
        "serie"
      ],
      "execution_count": null,
      "outputs": [
        {
          "output_type": "execute_result",
          "data": {
            "text/plain": [
              "0    1\n",
              "1    2\n",
              "2    3\n",
              "3    4\n",
              "4    5\n",
              "dtype: int64"
            ]
          },
          "metadata": {
            "tags": []
          },
          "execution_count": 2
        }
      ]
    },
    {
      "cell_type": "markdown",
      "metadata": {
        "id": "3Fhj5gS_WMFV"
      },
      "source": [
        "Como não definimos os índice, o pandas utiliza o padrão consistindo de inteiros de 0 a N - 1 (N é o tamanho da Série)"
      ]
    },
    {
      "cell_type": "code",
      "metadata": {
        "colab": {
          "base_uri": "https://localhost:8080/"
        },
        "id": "eyjdk2zFWhqR",
        "outputId": "db6e0d64-8c60-4728-c1bc-363fedded968"
      },
      "source": [
        "serie_2 = pd.Series([1,2,3,4,5], index=['a','b','c','d','e'])\n",
        "\n",
        "serie_2"
      ],
      "execution_count": null,
      "outputs": [
        {
          "output_type": "execute_result",
          "data": {
            "text/plain": [
              "a    1\n",
              "b    2\n",
              "c    3\n",
              "d    4\n",
              "e    5\n",
              "dtype: int64"
            ]
          },
          "metadata": {
            "tags": []
          },
          "execution_count": 17
        }
      ]
    },
    {
      "cell_type": "markdown",
      "metadata": {
        "id": "tokaVUXayOPK"
      },
      "source": [
        "Outra forma de adicionar um indice durante a criação da Série é utilizando um *dict* do Python."
      ]
    },
    {
      "cell_type": "code",
      "metadata": {
        "colab": {
          "base_uri": "https://localhost:8080/"
        },
        "id": "on9kw-5lygKC",
        "outputId": "844f6af8-9e5d-4d18-8b10-0ab411093925"
      },
      "source": [
        "serie_3 = pd.Series({\n",
        "  'RJ': 2000,\n",
        "  'SP': 3000,\n",
        "  'MG': 5000\n",
        "})\n",
        "\n",
        "serie_3"
      ],
      "execution_count": null,
      "outputs": [
        {
          "output_type": "execute_result",
          "data": {
            "text/plain": [
              "RJ    2000\n",
              "SP    3000\n",
              "MG    5000\n",
              "dtype: int64"
            ]
          },
          "metadata": {
            "tags": []
          },
          "execution_count": 4
        }
      ]
    },
    {
      "cell_type": "markdown",
      "metadata": {
        "id": "cN__qM3pzYOi"
      },
      "source": [
        "Você também pode enviar uma *list* para escolher a ordem que você quer na Série e adicionar novos indices."
      ]
    },
    {
      "cell_type": "code",
      "metadata": {
        "colab": {
          "base_uri": "https://localhost:8080/"
        },
        "id": "XEwkRe-azvdE",
        "outputId": "9ebc34db-d4b9-4ef2-d2a1-14d554186ccf"
      },
      "source": [
        "valores = {\n",
        "  'RJ': 2000,\n",
        "  'SP': 3000,\n",
        "  'MG': 5000\n",
        "}\n",
        "\n",
        "sequencia_estados = ['MG', 'SP', 'RJ', 'ES']\n",
        "\n",
        "serie_3 = pd.Series(valores, index=sequencia_estados)\n",
        "\n",
        "serie_3"
      ],
      "execution_count": null,
      "outputs": [
        {
          "output_type": "execute_result",
          "data": {
            "text/plain": [
              "MG    5000.0\n",
              "SP    3000.0\n",
              "RJ    2000.0\n",
              "ES       NaN\n",
              "dtype: float64"
            ]
          },
          "metadata": {
            "tags": []
          },
          "execution_count": 5
        }
      ]
    },
    {
      "cell_type": "markdown",
      "metadata": {
        "id": "ETMS28LL2wSt"
      },
      "source": [
        "Reparem que não existe um valor para o estado ES. Isso é porque não definimos no *dict* `valores`.\n",
        "\n",
        "O *NaN* (*not a number*) é definido pelo **pandas** como um dado faltante ou *NA values*.\n",
        "\n",
        "Para selecionar os dados faltantes podemos usar as funções `isnull` e `notnull`."
      ]
    },
    {
      "cell_type": "code",
      "metadata": {
        "colab": {
          "base_uri": "https://localhost:8080/"
        },
        "id": "DV23zcVp5YSS",
        "outputId": "fe797475-00a6-4afa-a51d-75f1ae24d775"
      },
      "source": [
        "# isnull retorna um array de booleanos. True quando o valor é nulo ou faltante e False quando não\n",
        "serie_3.isnull()"
      ],
      "execution_count": null,
      "outputs": [
        {
          "output_type": "execute_result",
          "data": {
            "text/plain": [
              "MG    False\n",
              "SP    False\n",
              "RJ    False\n",
              "ES     True\n",
              "dtype: bool"
            ]
          },
          "metadata": {
            "tags": []
          },
          "execution_count": 6
        }
      ]
    },
    {
      "cell_type": "code",
      "metadata": {
        "colab": {
          "base_uri": "https://localhost:8080/"
        },
        "id": "THdjLvv65xBk",
        "outputId": "ba5e82ad-bd7b-45fd-9fb9-400107439112"
      },
      "source": [
        "# notnull retorna um array de booleanos e seus valores são o inverso do isnull\n",
        "serie_3.notnull()"
      ],
      "execution_count": null,
      "outputs": [
        {
          "output_type": "execute_result",
          "data": {
            "text/plain": [
              "MG     True\n",
              "SP     True\n",
              "RJ     True\n",
              "ES    False\n",
              "dtype: bool"
            ]
          },
          "metadata": {
            "tags": []
          },
          "execution_count": 7
        }
      ]
    },
    {
      "cell_type": "markdown",
      "metadata": {
        "id": "XyVK037nW8yW"
      },
      "source": [
        "Para selecionar um ou mais dados dentro de um Série nós podemos usar os valores do índice."
      ]
    },
    {
      "cell_type": "code",
      "metadata": {
        "colab": {
          "base_uri": "https://localhost:8080/"
        },
        "id": "Z1pqH3YrXBUy",
        "outputId": "374d3fc4-b111-47b0-f7e5-055569a488b3"
      },
      "source": [
        "# Apenas um valor\n",
        "print(serie_2['a'])\n",
        "\n",
        "# Usando uma lista para selecionar mais de um valor\n",
        "print(serie_2[['a','e']])"
      ],
      "execution_count": null,
      "outputs": [
        {
          "output_type": "stream",
          "text": [
            "1\n",
            "a    1\n",
            "e    5\n",
            "dtype: int64\n"
          ],
          "name": "stdout"
        }
      ]
    },
    {
      "cell_type": "markdown",
      "metadata": {
        "id": "rexykRAmZf-h"
      },
      "source": [
        "Assim como no NumPy, operações matemáticas são vetorizadas e afetam todos os valores da Série de uma forma extremamente eficiente e sem a necessidade de utilizar um *for*."
      ]
    },
    {
      "cell_type": "code",
      "metadata": {
        "colab": {
          "base_uri": "https://localhost:8080/"
        },
        "id": "tdyyrZYKaJyG",
        "outputId": "48d66697-077f-44aa-9d4c-09a66df84934"
      },
      "source": [
        "print(serie_2)"
      ],
      "execution_count": null,
      "outputs": [
        {
          "output_type": "stream",
          "text": [
            "a    1\n",
            "b    2\n",
            "c    3\n",
            "d    4\n",
            "e    5\n",
            "dtype: int64\n"
          ],
          "name": "stdout"
        }
      ]
    },
    {
      "cell_type": "code",
      "metadata": {
        "colab": {
          "base_uri": "https://localhost:8080/"
        },
        "id": "1F1vkNej4Cus",
        "outputId": "56b94b44-d404-4708-a7d4-0cf54952e62a"
      },
      "source": [
        "# Todos os items da Série foram multiplicados por 2\n",
        "print(serie_2 * 2)"
      ],
      "execution_count": null,
      "outputs": [
        {
          "output_type": "stream",
          "text": [
            "a     2\n",
            "b     4\n",
            "c     6\n",
            "d     8\n",
            "e    10\n",
            "dtype: int64\n"
          ],
          "name": "stdout"
        }
      ]
    },
    {
      "cell_type": "markdown",
      "metadata": {
        "id": "gST9K4bU4U38"
      },
      "source": [
        "O mesmo acontece quando utilizamos um dos métodos do **NumPy**."
      ]
    },
    {
      "cell_type": "code",
      "metadata": {
        "colab": {
          "base_uri": "https://localhost:8080/"
        },
        "id": "_GCcKtpb4MeL",
        "outputId": "90850b87-0571-4d72-908b-fdce6b208841"
      },
      "source": [
        "import numpy as np\n",
        "\n",
        "# exp calcula o exponecial de todos os items do array.\n",
        "# https://numpy.org/doc/stable/reference/generated/numpy.exp.html\n",
        "np.exp(serie_2)"
      ],
      "execution_count": null,
      "outputs": [
        {
          "output_type": "execute_result",
          "data": {
            "text/plain": [
              "a      2.718282\n",
              "b      7.389056\n",
              "c     20.085537\n",
              "d     54.598150\n",
              "e    148.413159\n",
              "dtype: float64"
            ]
          },
          "metadata": {
            "tags": []
          },
          "execution_count": 11
        }
      ]
    },
    {
      "cell_type": "markdown",
      "metadata": {
        "id": "bSF7YAGJai4K"
      },
      "source": [
        "Podemos selecionar valores utilizando filtros de arrays de booleanos diretamente na Série, sem a necessidade de escrever *IF-ELSE*"
      ]
    },
    {
      "cell_type": "code",
      "metadata": {
        "colab": {
          "base_uri": "https://localhost:8080/"
        },
        "id": "2LYrDzheayKx",
        "outputId": "ae80e070-e6df-4735-a9fb-9181bbe98590"
      },
      "source": [
        "mascara_de_selecao = serie_2 > 4\n",
        "\n",
        "mascara_de_selecao"
      ],
      "execution_count": null,
      "outputs": [
        {
          "output_type": "execute_result",
          "data": {
            "text/plain": [
              "a    False\n",
              "b    False\n",
              "c    False\n",
              "d    False\n",
              "e     True\n",
              "dtype: bool"
            ]
          },
          "metadata": {
            "tags": []
          },
          "execution_count": 12
        }
      ]
    },
    {
      "cell_type": "code",
      "metadata": {
        "colab": {
          "base_uri": "https://localhost:8080/"
        },
        "id": "qq3NEyB53_al",
        "outputId": "693230a0-899d-482e-9475-a943499ad939"
      },
      "source": [
        "# Seleção dos items da lista utilizando um array de booleanos\n",
        "serie_2[mascara_de_selecao]"
      ],
      "execution_count": null,
      "outputs": [
        {
          "output_type": "execute_result",
          "data": {
            "text/plain": [
              "e    5\n",
              "dtype: int64"
            ]
          },
          "metadata": {
            "tags": []
          },
          "execution_count": 13
        }
      ]
    },
    {
      "cell_type": "markdown",
      "metadata": {
        "id": "tQ_d9vxJ-8Al"
      },
      "source": [
        "Os nomes de uma Série ou do seu índice são acessíveis e podem ser modificados pelos seus atributos."
      ]
    },
    {
      "cell_type": "code",
      "metadata": {
        "colab": {
          "base_uri": "https://localhost:8080/"
        },
        "id": "wr4SZq_n_Jhl",
        "outputId": "e58060bd-cb4b-4dde-fa04-98bf14727c93"
      },
      "source": [
        "serie_3.name = 'Estados'\n",
        "serie_3.index.name = 'Valores'\n",
        "\n",
        "serie_3"
      ],
      "execution_count": null,
      "outputs": [
        {
          "output_type": "execute_result",
          "data": {
            "text/plain": [
              "Valores\n",
              "MG    5000.0\n",
              "SP    3000.0\n",
              "RJ    2000.0\n",
              "ES       NaN\n",
              "Name: Estados, dtype: float64"
            ]
          },
          "metadata": {
            "tags": []
          },
          "execution_count": 14
        }
      ]
    },
    {
      "cell_type": "markdown",
      "metadata": {
        "id": "fxfZ1vFg_jfl"
      },
      "source": [
        "Além disso os valores dos índices podem ser atualizados depois de já serem atribuídos."
      ]
    },
    {
      "cell_type": "code",
      "metadata": {
        "colab": {
          "base_uri": "https://localhost:8080/"
        },
        "id": "PJPPCZ27_qhm",
        "outputId": "575407c5-d094-4627-f97b-636f14dae59c"
      },
      "source": [
        "serie_4 = pd.Series([1,2,3,4,5])\n",
        "\n",
        "serie_4"
      ],
      "execution_count": null,
      "outputs": [
        {
          "output_type": "execute_result",
          "data": {
            "text/plain": [
              "0    1\n",
              "1    2\n",
              "2    3\n",
              "3    4\n",
              "4    5\n",
              "dtype: int64"
            ]
          },
          "metadata": {
            "tags": []
          },
          "execution_count": 15
        }
      ]
    },
    {
      "cell_type": "code",
      "metadata": {
        "colab": {
          "base_uri": "https://localhost:8080/"
        },
        "id": "UjHL1AR2_1UG",
        "outputId": "8a70e2d9-a155-4e44-d92c-fa5598304ca8"
      },
      "source": [
        "# o tamanho da list passada deve ser do mesmo tamanho da Série\n",
        "serie_4.index = ['a','b','c','d','e']\n",
        "\n",
        "serie_4"
      ],
      "execution_count": null,
      "outputs": [
        {
          "output_type": "execute_result",
          "data": {
            "text/plain": [
              "a    1\n",
              "b    2\n",
              "c    3\n",
              "d    4\n",
              "e    5\n",
              "dtype: int64"
            ]
          },
          "metadata": {
            "tags": []
          },
          "execution_count": 16
        }
      ]
    },
    {
      "cell_type": "markdown",
      "metadata": {
        "id": "xWYNDe51ALnA"
      },
      "source": [
        "O pandas é uma ferramenta espetacular e vamos utilizá-la na maioria dos projetos! Por isso, precisamos ficar  bem familiarizados com ela!\n",
        "\n",
        "Não se esqueçam de continuar estudando, questionar tudo e escrever sempre 📚.\n",
        "\n",
        "A gente se fala! 👋\n",
        "\n",
        "Fred."
      ]
    }
  ]
}